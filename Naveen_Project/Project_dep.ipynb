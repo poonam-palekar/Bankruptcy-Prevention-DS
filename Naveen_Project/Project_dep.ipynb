{
 "cells": [
  {
   "cell_type": "code",
   "execution_count": 24,
   "id": "c4bd6027-02ef-4f60-8c54-deb0ebdad39d",
   "metadata": {},
   "outputs": [],
   "source": [
    "import streamlit as st\n",
    "import numpy as np\n",
    "import joblib\n",
    "import plotly.graph_objects as go"
   ]
  },
  {
   "cell_type": "code",
   "execution_count": 25,
   "id": "1002053e-5282-47af-a467-0f5b1ec0db2a",
   "metadata": {},
   "outputs": [
    {
     "name": "stderr",
     "output_type": "stream",
     "text": [
      "2025-10-28 18:14:58.238 Thread 'MainThread': missing ScriptRunContext! This warning can be ignored when running in bare mode.\n"
     ]
    }
   ],
   "source": [
    "st.set_page_config(\n",
    "    page_title=\"Bankruptcy Prediction System\",\n",
    "    page_icon=\"💼\",\n",
    "    layout=\"centered\"\n",
    ")"
   ]
  },
  {
   "cell_type": "code",
   "execution_count": 26,
   "id": "49be8c4f-3ee2-46a2-9255-7cb98e755640",
   "metadata": {},
   "outputs": [
    {
     "name": "stderr",
     "output_type": "stream",
     "text": [
      "2025-10-28 18:14:58.847 Thread 'MainThread': missing ScriptRunContext! This warning can be ignored when running in bare mode.\n",
      "2025-10-28 18:14:58.854 Thread 'MainThread': missing ScriptRunContext! This warning can be ignored when running in bare mode.\n"
     ]
    },
    {
     "data": {
      "text/plain": [
       "DeltaGenerator()"
      ]
     },
     "execution_count": 26,
     "metadata": {},
     "output_type": "execute_result"
    }
   ],
   "source": [
    "st.markdown(\"\"\"\n",
    "<style>\n",
    "    body {\n",
    "        background-color: #f9fafc;\n",
    "        font-family: 'Poppins', sans-serif;\n",
    "    }\n",
    "    .main-title {\n",
    "        text-align: center;\n",
    "        font-size: 32px;\n",
    "        color: #1a202c;\n",
    "        font-weight: 700;\n",
    "        margin-bottom: 0;\n",
    "    }\n",
    "    .sub-title {\n",
    "        text-align: center;\n",
    "        color: #4a5568;\n",
    "        margin-top: 4px;\n",
    "        font-size: 16px;\n",
    "    }\n",
    "    .stButton>button {\n",
    "        background-color: #2563eb;\n",
    "        color: white;\n",
    "        border-radius: 8px;\n",
    "        padding: 10px 24px;\n",
    "        border: none;\n",
    "        font-weight: 600;\n",
    "    }\n",
    "    .stButton>button:hover {\n",
    "        background-color: #1d4ed8;\n",
    "    }\n",
    "</style>\n",
    "\"\"\", unsafe_allow_html=True)"
   ]
  },
  {
   "cell_type": "code",
   "execution_count": 27,
   "id": "92abf68f-3a62-44a8-ba2d-218057b623cd",
   "metadata": {},
   "outputs": [],
   "source": [
    "def load_model():\n",
    "    try:\n",
    "        model = joblib.load(\"Bankruptcy.pkl\")\n",
    "        return model\n",
    "    except:\n",
    "        st.error(\"⚠️ Model file not found. Please make sure 'bankruptcy_model.pkl' is in the directory.\")\n",
    "        return None\n",
    "\n",
    "model = load_model()"
   ]
  },
  {
   "cell_type": "code",
   "execution_count": 28,
   "id": "9eee6b7b-e1f5-415d-a9ea-5a8b1e587f3e",
   "metadata": {},
   "outputs": [
    {
     "name": "stderr",
     "output_type": "stream",
     "text": [
      "2025-10-28 18:15:01.528 Thread 'MainThread': missing ScriptRunContext! This warning can be ignored when running in bare mode.\n",
      "2025-10-28 18:15:01.534 Thread 'MainThread': missing ScriptRunContext! This warning can be ignored when running in bare mode.\n",
      "2025-10-28 18:15:01.541 Thread 'MainThread': missing ScriptRunContext! This warning can be ignored when running in bare mode.\n",
      "2025-10-28 18:15:01.552 Thread 'MainThread': missing ScriptRunContext! This warning can be ignored when running in bare mode.\n",
      "2025-10-28 18:15:01.557 Thread 'MainThread': missing ScriptRunContext! This warning can be ignored when running in bare mode.\n",
      "2025-10-28 18:15:01.567 Thread 'MainThread': missing ScriptRunContext! This warning can be ignored when running in bare mode.\n",
      "2025-10-28 18:15:01.575 Thread 'MainThread': missing ScriptRunContext! This warning can be ignored when running in bare mode.\n",
      "2025-10-28 18:15:01.579 Thread 'MainThread': missing ScriptRunContext! This warning can be ignored when running in bare mode.\n",
      "2025-10-28 18:15:01.584 Thread 'MainThread': missing ScriptRunContext! This warning can be ignored when running in bare mode.\n",
      "2025-10-28 18:15:01.593 Thread 'MainThread': missing ScriptRunContext! This warning can be ignored when running in bare mode.\n",
      "2025-10-28 18:15:01.602 Thread 'MainThread': missing ScriptRunContext! This warning can be ignored when running in bare mode.\n",
      "2025-10-28 18:15:01.607 Thread 'MainThread': missing ScriptRunContext! This warning can be ignored when running in bare mode.\n",
      "2025-10-28 18:15:01.612 Thread 'MainThread': missing ScriptRunContext! This warning can be ignored when running in bare mode.\n",
      "2025-10-28 18:15:01.620 Thread 'MainThread': missing ScriptRunContext! This warning can be ignored when running in bare mode.\n",
      "2025-10-28 18:15:01.626 Thread 'MainThread': missing ScriptRunContext! This warning can be ignored when running in bare mode.\n",
      "2025-10-28 18:15:01.637 Thread 'MainThread': missing ScriptRunContext! This warning can be ignored when running in bare mode.\n",
      "2025-10-28 18:15:01.641 Thread 'MainThread': missing ScriptRunContext! This warning can be ignored when running in bare mode.\n",
      "2025-10-28 18:15:01.644 Thread 'MainThread': missing ScriptRunContext! This warning can be ignored when running in bare mode.\n",
      "2025-10-28 18:15:01.654 Thread 'MainThread': missing ScriptRunContext! This warning can be ignored when running in bare mode.\n",
      "2025-10-28 18:15:01.660 Thread 'MainThread': missing ScriptRunContext! This warning can be ignored when running in bare mode.\n",
      "2025-10-28 18:15:01.670 Thread 'MainThread': missing ScriptRunContext! This warning can be ignored when running in bare mode.\n",
      "2025-10-28 18:15:01.686 Thread 'MainThread': missing ScriptRunContext! This warning can be ignored when running in bare mode.\n",
      "2025-10-28 18:15:01.693 Thread 'MainThread': missing ScriptRunContext! This warning can be ignored when running in bare mode.\n",
      "2025-10-28 18:15:01.709 Thread 'MainThread': missing ScriptRunContext! This warning can be ignored when running in bare mode.\n",
      "2025-10-28 18:15:01.725 Thread 'MainThread': missing ScriptRunContext! This warning can be ignored when running in bare mode.\n",
      "2025-10-28 18:15:01.738 Thread 'MainThread': missing ScriptRunContext! This warning can be ignored when running in bare mode.\n",
      "2025-10-28 18:15:01.745 Thread 'MainThread': missing ScriptRunContext! This warning can be ignored when running in bare mode.\n",
      "2025-10-28 18:15:01.755 Thread 'MainThread': missing ScriptRunContext! This warning can be ignored when running in bare mode.\n",
      "2025-10-28 18:15:01.769 Thread 'MainThread': missing ScriptRunContext! This warning can be ignored when running in bare mode.\n",
      "2025-10-28 18:15:01.783 Thread 'MainThread': missing ScriptRunContext! This warning can be ignored when running in bare mode.\n",
      "2025-10-28 18:15:01.793 Thread 'MainThread': missing ScriptRunContext! This warning can be ignored when running in bare mode.\n",
      "2025-10-28 18:15:01.800 Thread 'MainThread': missing ScriptRunContext! This warning can be ignored when running in bare mode.\n",
      "2025-10-28 18:15:01.804 Thread 'MainThread': missing ScriptRunContext! This warning can be ignored when running in bare mode.\n",
      "2025-10-28 18:15:01.807 Thread 'MainThread': missing ScriptRunContext! This warning can be ignored when running in bare mode.\n",
      "2025-10-28 18:15:01.816 Thread 'MainThread': missing ScriptRunContext! This warning can be ignored when running in bare mode.\n",
      "2025-10-28 18:15:01.820 Thread 'MainThread': missing ScriptRunContext! This warning can be ignored when running in bare mode.\n",
      "2025-10-28 18:15:01.824 Thread 'MainThread': missing ScriptRunContext! This warning can be ignored when running in bare mode.\n",
      "2025-10-28 18:15:01.830 Thread 'MainThread': missing ScriptRunContext! This warning can be ignored when running in bare mode.\n",
      "2025-10-28 18:15:01.852 Thread 'MainThread': missing ScriptRunContext! This warning can be ignored when running in bare mode.\n",
      "2025-10-28 18:15:01.864 Thread 'MainThread': missing ScriptRunContext! This warning can be ignored when running in bare mode.\n",
      "2025-10-28 18:15:01.877 Thread 'MainThread': missing ScriptRunContext! This warning can be ignored when running in bare mode.\n",
      "2025-10-28 18:15:01.887 Thread 'MainThread': missing ScriptRunContext! This warning can be ignored when running in bare mode.\n",
      "2025-10-28 18:15:01.893 Thread 'MainThread': missing ScriptRunContext! This warning can be ignored when running in bare mode.\n",
      "2025-10-28 18:15:01.903 Thread 'MainThread': missing ScriptRunContext! This warning can be ignored when running in bare mode.\n",
      "2025-10-28 18:15:01.908 Thread 'MainThread': missing ScriptRunContext! This warning can be ignored when running in bare mode.\n",
      "2025-10-28 18:15:01.920 Thread 'MainThread': missing ScriptRunContext! This warning can be ignored when running in bare mode.\n",
      "2025-10-28 18:15:01.924 Thread 'MainThread': missing ScriptRunContext! This warning can be ignored when running in bare mode.\n"
     ]
    },
    {
     "data": {
      "text/plain": [
       "DeltaGenerator()"
      ]
     },
     "execution_count": 28,
     "metadata": {},
     "output_type": "execute_result"
    }
   ],
   "source": [
    "st.markdown(\"<h1 class='main-title'>💰 Bankruptcy Prediction System</h1>\", unsafe_allow_html=True)\n",
    "st.markdown(\"<p class='sub-title'>Predict the likelihood of company bankruptcy using financial risk indicators</p>\", unsafe_allow_html=True)\n",
    "st.markdown(\"---\")\n",
    "\n",
    "col1, col2 = st.columns(2)\n",
    "\n",
    "options = [0.0, 0.5, 1.0]\n",
    "\n",
    "with col1:\n",
    "    industrial_risk = st.selectbox(\"Industrial Risk\", options, index=1)\n",
    "    management_risk = st.selectbox(\"Management Risk\", options, index=1)\n",
    "    financial_flexibility = st.selectbox(\"Financial Flexibility\", options, index=1)\n",
    "\n",
    "with col2:\n",
    "    credibility = st.selectbox(\"Credibility\", options, index=1)\n",
    "    competitiveness = st.selectbox(\"Competitiveness\", options, index=1)\n",
    "    operating_risk = st.selectbox(\"Operating Risk\", options, index=1)\n",
    "\n",
    "st.markdown(\"---\")"
   ]
  },
  {
   "cell_type": "code",
   "execution_count": 29,
   "id": "04c59ea8-9273-446d-bfe4-601b02d9c9a8",
   "metadata": {},
   "outputs": [
    {
     "name": "stderr",
     "output_type": "stream",
     "text": [
      "2025-10-28 18:15:03.493 Thread 'MainThread': missing ScriptRunContext! This warning can be ignored when running in bare mode.\n",
      "2025-10-28 18:15:03.500 Thread 'MainThread': missing ScriptRunContext! This warning can be ignored when running in bare mode.\n",
      "2025-10-28 18:15:03.513 Thread 'MainThread': missing ScriptRunContext! This warning can be ignored when running in bare mode.\n",
      "2025-10-28 18:15:03.520 Thread 'MainThread': missing ScriptRunContext! This warning can be ignored when running in bare mode.\n",
      "2025-10-28 18:15:03.523 Thread 'MainThread': missing ScriptRunContext! This warning can be ignored when running in bare mode.\n"
     ]
    }
   ],
   "source": [
    "if st.button(\"🔍 Predict\"):\n",
    "    if model:\n",
    "        input_data = np.array([[industrial_risk, management_risk, financial_flexibility,\n",
    "                                credibility, competitiveness, operating_risk]])\n",
    "\n",
    "        y_pred = model.predict(input_data)[0]\n",
    "        y_prob = model.predict_proba(input_data)[0][1] * 100  # Probability of Non-bankruptcy\n",
    "\n",
    "        if y_pred == 0:\n",
    "            st.error(f\"🚨 **Prediction:** Bankrupt Company\\n\\n💡 Bankruptcy Risk Score: {100 - y_prob:.2f}%\")\n",
    "        else:\n",
    "            st.success(f\"✅ **Prediction:** Non-Bankrupt Company\\n\\n🔹 Confidence: {y_prob:.2f}%\")\n",
    "\n",
    "        # Visualization\n",
    "        fig = go.Figure(go.Indicator(\n",
    "            mode=\"gauge+number\",\n",
    "            value=y_prob,\n",
    "            title={'text': \"Non-Bankruptcy Probability (%)\"},\n",
    "            gauge={\n",
    "                'axis': {'range': [0, 100]},\n",
    "                'bar': {'color': \"green\" if y_pred == 1 else \"red\"},\n",
    "                'steps': [\n",
    "                    {'range': [0, 40], 'color': \"#ffcccc\"},\n",
    "                    {'range': [40, 70], 'color': \"#ffe066\"},\n",
    "                    {'range': [70, 100], 'color': \"#ccffcc\"}\n",
    "                ]\n",
    "            }\n",
    "        ))\n",
    "        st.plotly_chart(fig, use_container_width=True)\n",
    "\n",
    "    else:\n",
    "        st.warning(\"Model not loaded. Please check your model file.\")"
   ]
  },
  {
   "cell_type": "code",
   "execution_count": 30,
   "id": "f5a2bb52-d5d6-49ed-89e6-1955433aa398",
   "metadata": {},
   "outputs": [
    {
     "name": "stderr",
     "output_type": "stream",
     "text": [
      "2025-10-28 18:15:07.722 Thread 'MainThread': missing ScriptRunContext! This warning can be ignored when running in bare mode.\n",
      "2025-10-28 18:15:07.729 Thread 'MainThread': missing ScriptRunContext! This warning can be ignored when running in bare mode.\n",
      "2025-10-28 18:15:07.733 Thread 'MainThread': missing ScriptRunContext! This warning can be ignored when running in bare mode.\n",
      "2025-10-28 18:15:07.746 Thread 'MainThread': missing ScriptRunContext! This warning can be ignored when running in bare mode.\n"
     ]
    },
    {
     "data": {
      "text/plain": [
       "DeltaGenerator()"
      ]
     },
     "execution_count": 30,
     "metadata": {},
     "output_type": "execute_result"
    }
   ],
   "source": [
    "st.markdown(\"---\")\n",
    "st.markdown(\"<p style='text-align:center; color:gray;'>Developed by <b>Naveen Kumar</b> | Data Scientist 💼</p>\", unsafe_allow_html=True)"
   ]
  }
 ],
 "metadata": {
  "kernelspec": {
   "display_name": "Python 3 (ipykernel)",
   "language": "python",
   "name": "python3"
  },
  "language_info": {
   "codemirror_mode": {
    "name": "ipython",
    "version": 3
   },
   "file_extension": ".py",
   "mimetype": "text/x-python",
   "name": "python",
   "nbconvert_exporter": "python",
   "pygments_lexer": "ipython3",
   "version": "3.13.5"
  }
 },
 "nbformat": 4,
 "nbformat_minor": 5
}
